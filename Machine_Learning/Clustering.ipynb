{
  "nbformat": 4,
  "nbformat_minor": 0,
  "metadata": {
    "colab": {
      "name": "Clustering.ipynb",
      "provenance": []
    },
    "kernelspec": {
      "name": "python3",
      "display_name": "Python 3"
    },
    "language_info": {
      "name": "python"
    }
  },
  "cells": [
    {
      "cell_type": "code",
      "metadata": {
        "colab": {
          "base_uri": "https://localhost:8080/"
        },
        "id": "PlHiRo_YRhlc",
        "outputId": "d05a22a7-a632-4506-9699-e62b45bfca19"
      },
      "source": [
        "import numpy as np\n",
        "\n",
        "target = np.array([0] * 10 + [1] * 10)\n",
        "target  # 10개의 0(Negative), 10개의 1(Positive)를 가짐"
      ],
      "execution_count": 3,
      "outputs": [
        {
          "output_type": "execute_result",
          "data": {
            "text/plain": [
              "array([0, 0, 0, 0, 0, 0, 0, 0, 0, 0, 1, 1, 1, 1, 1, 1, 1, 1, 1, 1])"
            ]
          },
          "metadata": {
            "tags": []
          },
          "execution_count": 3
        }
      ]
    },
    {
      "cell_type": "code",
      "metadata": {
        "colab": {
          "base_uri": "https://localhost:8080/"
        },
        "id": "VU5b9qV5ZFdR",
        "outputId": "0d32a6fa-927f-41c0-ce98-7cd5459e179c"
      },
      "source": [
        "pred = np.array([0, 0, 0, 0, 0, 1, 1, 1, 0, 0, 1, 1, 1, 1, 1, 1, 0, 0, 1, 1])\n",
        "pred"
      ],
      "execution_count": 4,
      "outputs": [
        {
          "output_type": "execute_result",
          "data": {
            "text/plain": [
              "array([0, 0, 0, 0, 0, 1, 1, 1, 0, 0, 1, 1, 1, 1, 1, 1, 0, 0, 1, 1])"
            ]
          },
          "metadata": {
            "tags": []
          },
          "execution_count": 4
        }
      ]
    },
    {
      "cell_type": "code",
      "metadata": {
        "colab": {
          "base_uri": "https://localhost:8080/"
        },
        "id": "nnvVUnZGZGyP",
        "outputId": "a4203952-8c25-4182-c889-d9767e90c94d"
      },
      "source": [
        "from sklearn.metrics import confusion_matrix\n",
        "confusion_matrix(target, pred)   # 혼동행렬 만들기"
      ],
      "execution_count": 5,
      "outputs": [
        {
          "output_type": "execute_result",
          "data": {
            "text/plain": [
              "array([[7, 3],\n",
              "       [2, 8]])"
            ]
          },
          "metadata": {
            "tags": []
          },
          "execution_count": 5
        }
      ]
    },
    {
      "cell_type": "code",
      "metadata": {
        "colab": {
          "base_uri": "https://localhost:8080/"
        },
        "id": "v0Tsg_snZIE_",
        "outputId": "27d7f2ff-964d-446c-bd1c-08b773b162f9"
      },
      "source": [
        "from sklearn.metrics import precision_score, recall_score\n",
        "print('정밀도 :', precision_score(target, pred))\n",
        "print('재현률 :', recall_score(target, pred))\n",
        "\n",
        "from sklearn.metrics import accuracy_score, f1_score\n",
        "print('정확도 :', accuracy_score(target, pred))\n",
        "print('F1 점수 :', f1_score(target, pred))"
      ],
      "execution_count": 6,
      "outputs": [
        {
          "output_type": "stream",
          "text": [
            "정밀도 : 0.7272727272727273\n",
            "재현률 : 0.8\n",
            "정확도 : 0.75\n",
            "F1 점수 : 0.761904761904762\n"
          ],
          "name": "stdout"
        }
      ]
    },
    {
      "cell_type": "code",
      "metadata": {
        "id": "mgqaUwNAaKwg"
      },
      "source": [
        "import numpy as np\n",
        "from sklearn import metrics \n",
        "\n",
        "# 닥스 훈트의 몸 길이와 몸 높이\n",
        "dach_length = [77, 78, 85, 83, 73, 77, 73, 80]\n",
        "dach_height = [25, 28, 19, 30, 21, 22, 17, 35]\n",
        "\n",
        "# 사모예드의 몸 길이와 몸 높이\n",
        "samo_length = [75, 77, 86, 86, 79, 83, 83, 88]\n",
        "samo_height = [56, 57, 50, 53, 60, 53, 49, 61]\n",
        "\n",
        "d_data = np.column_stack((dach_length, dach_height))\n",
        "d_label = np.zeros(len(d_data))   # 닥스훈트는 0으로 레이블링\n",
        "s_data = np.column_stack((samo_length, samo_height))\n",
        "s_label = np.ones(len(s_data))   # 사모예드는 1로 레이블링\n",
        "\n",
        "# 사모예드와 닥스 훈트의 길이, 높이 데이터는 생략한다\n",
        "# 개의 길이와 높이를 각각 ndarray 형태로 만든다\n",
        "dog_length = np.array(dach_length + samo_length) # 리스트를 이어 ndarray로\n",
        "dog_height = np.array(dach_height + samo_height) # 리스트를 이어 ndarray로\n",
        "\n",
        "dog_data = np.column_stack((dog_length, dog_height))\n",
        "\n",
        "plt.title(\"Dog data without label\")\n",
        "plt.scatter(dog_length, dog_height)"
      ],
      "execution_count": null,
      "outputs": []
    },
    {
      "cell_type": "markdown",
      "metadata": {
        "id": "l1xL4TF7di2g"
      },
      "source": [
        "### LAB 5-1: 붓꽃 데이터를 군집화"
      ]
    },
    {
      "cell_type": "code",
      "metadata": {
        "id": "9YBkBCnCdinD"
      },
      "source": [
        "from sklearn import cluster\n",
        "from sklearn.datasets import load_iris \n",
        "import numpy as np\n",
        "\n",
        "iris = load_iris() \n",
        "k = len(iris.target_names)  # 몇 개의 군집으로 나눌지를 결정한다"
      ],
      "execution_count": 7,
      "outputs": []
    },
    {
      "cell_type": "code",
      "metadata": {
        "colab": {
          "base_uri": "https://localhost:8080/"
        },
        "id": "f9kI4zNPdoKS",
        "outputId": "49b92e0f-0da7-4e57-a8b6-d7c9805b080f"
      },
      "source": [
        "print('kMeans() 군집화 적용...')\n",
        "model = cluster.KMeans(n_clusters=k)\n",
        "model.fit(iris.data)\n",
        "labels = model.predict(iris.data)\n",
        "print('군집화 결과 labels :', labels)\n",
        "a_counts = np.bincount(labels[:50])\n",
        "b_counts = np.bincount(labels[50:100])\n",
        "c_counts = np.bincount(labels[100:])"
      ],
      "execution_count": 8,
      "outputs": [
        {
          "output_type": "stream",
          "text": [
            "kMeans() 군집화 적용...\n",
            "군집화 결과 labels : [1 1 1 1 1 1 1 1 1 1 1 1 1 1 1 1 1 1 1 1 1 1 1 1 1 1 1 1 1 1 1 1 1 1 1 1 1\n",
            " 1 1 1 1 1 1 1 1 1 1 1 1 1 2 2 0 2 2 2 2 2 2 2 2 2 2 2 2 2 2 2 2 2 2 2 2 2\n",
            " 2 2 2 0 2 2 2 2 2 2 2 2 2 2 2 2 2 2 2 2 2 2 2 2 2 2 0 2 0 0 0 0 2 0 0 0 0\n",
            " 0 0 2 2 0 0 0 0 2 0 2 0 2 0 0 2 2 0 0 0 0 0 2 0 0 0 0 2 0 0 0 2 0 0 0 2 0\n",
            " 0 2]\n"
          ],
          "name": "stdout"
        }
      ]
    },
    {
      "cell_type": "code",
      "metadata": {
        "colab": {
          "base_uri": "https://localhost:8080/"
        },
        "id": "fq3OQPp9dpfh",
        "outputId": "c9e4554b-5d50-464e-fb7e-f66e7622da78"
      },
      "source": [
        "d ={ 0: np.argmax(a_counts), 1: np.argmax(b_counts), 2 : np.argmax(c_counts)}\n",
        "new_labels = np.copy(labels)\n",
        "for old, new in d.items():\n",
        "    new_labels[labels == old] = new\n",
        "\n",
        "print('다시 레이블링을 한 후의 new_labels =', new_labels)"
      ],
      "execution_count": 9,
      "outputs": [
        {
          "output_type": "stream",
          "text": [
            "다시 레이블링을 한 후의 new_labels = [2 2 2 2 2 2 2 2 2 2 2 2 2 2 2 2 2 2 2 2 2 2 2 2 2 2 2 2 2 2 2 2 2 2 2 2 2\n",
            " 2 2 2 2 2 2 2 2 2 2 2 2 2 0 0 1 0 0 0 0 0 0 0 0 0 0 0 0 0 0 0 0 0 0 0 0 0\n",
            " 0 0 0 1 0 0 0 0 0 0 0 0 0 0 0 0 0 0 0 0 0 0 0 0 0 0 1 0 1 1 1 1 0 1 1 1 1\n",
            " 1 1 0 0 1 1 1 1 0 1 0 1 0 1 1 0 0 1 1 1 1 1 0 1 1 1 1 0 1 1 1 0 1 1 1 0 1\n",
            " 1 0]\n"
          ],
          "name": "stdout"
        }
      ]
    },
    {
      "cell_type": "code",
      "metadata": {
        "id": "LaTDtu6vdrNZ"
      },
      "source": [
        ""
      ],
      "execution_count": null,
      "outputs": []
    }
  ]
}