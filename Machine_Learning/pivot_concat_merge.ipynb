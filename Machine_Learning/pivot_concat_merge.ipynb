{
  "nbformat": 4,
  "nbformat_minor": 0,
  "metadata": {
    "colab": {
      "name": "pivot_concat_merge.ipynb",
      "provenance": []
    },
    "kernelspec": {
      "name": "python3",
      "display_name": "Python 3"
    },
    "language_info": {
      "name": "python"
    }
  },
  "cells": [
    {
      "cell_type": "code",
      "metadata": {
        "colab": {
          "base_uri": "https://localhost:8080/",
          "height": 173
        },
        "id": "UXzrBIuqgDdw",
        "outputId": "d00afd14-b934-40a1-b656-dffc57590606"
      },
      "source": [
        "import pandas as pd\n",
        "df_1 = pd.DataFrame({'item' : ['ring0', 'ring0', 'ring1', 'ring1'],\n",
        "                     'type' : ['Gold', 'Silver', \"Gold\", 'Bronze'],\n",
        "                     'price' : [20000, 10000, 50000, 30000]})\n",
        "df_1"
      ],
      "execution_count": 1,
      "outputs": [
        {
          "output_type": "execute_result",
          "data": {
            "text/html": [
              "<div>\n",
              "<style scoped>\n",
              "    .dataframe tbody tr th:only-of-type {\n",
              "        vertical-align: middle;\n",
              "    }\n",
              "\n",
              "    .dataframe tbody tr th {\n",
              "        vertical-align: top;\n",
              "    }\n",
              "\n",
              "    .dataframe thead th {\n",
              "        text-align: right;\n",
              "    }\n",
              "</style>\n",
              "<table border=\"1\" class=\"dataframe\">\n",
              "  <thead>\n",
              "    <tr style=\"text-align: right;\">\n",
              "      <th></th>\n",
              "      <th>item</th>\n",
              "      <th>type</th>\n",
              "      <th>price</th>\n",
              "    </tr>\n",
              "  </thead>\n",
              "  <tbody>\n",
              "    <tr>\n",
              "      <th>0</th>\n",
              "      <td>ring0</td>\n",
              "      <td>Gold</td>\n",
              "      <td>20000</td>\n",
              "    </tr>\n",
              "    <tr>\n",
              "      <th>1</th>\n",
              "      <td>ring0</td>\n",
              "      <td>Silver</td>\n",
              "      <td>10000</td>\n",
              "    </tr>\n",
              "    <tr>\n",
              "      <th>2</th>\n",
              "      <td>ring1</td>\n",
              "      <td>Gold</td>\n",
              "      <td>50000</td>\n",
              "    </tr>\n",
              "    <tr>\n",
              "      <th>3</th>\n",
              "      <td>ring1</td>\n",
              "      <td>Bronze</td>\n",
              "      <td>30000</td>\n",
              "    </tr>\n",
              "  </tbody>\n",
              "</table>\n",
              "</div>"
            ],
            "text/plain": [
              "    item    type  price\n",
              "0  ring0    Gold  20000\n",
              "1  ring0  Silver  10000\n",
              "2  ring1    Gold  50000\n",
              "3  ring1  Bronze  30000"
            ]
          },
          "metadata": {
            "tags": []
          },
          "execution_count": 1
        }
      ]
    },
    {
      "cell_type": "code",
      "metadata": {
        "id": "HmPV2UJ9gdwj"
      },
      "source": [
        "df_2 = df_1.pivot(index='item', columns='type', values='price')"
      ],
      "execution_count": 2,
      "outputs": []
    },
    {
      "cell_type": "code",
      "metadata": {
        "colab": {
          "base_uri": "https://localhost:8080/",
          "height": 142
        },
        "id": "RzSVlK38gvX1",
        "outputId": "1ccb3679-b8a3-4d32-cc44-d93e2f12566f"
      },
      "source": [
        "df_2"
      ],
      "execution_count": 3,
      "outputs": [
        {
          "output_type": "execute_result",
          "data": {
            "text/html": [
              "<div>\n",
              "<style scoped>\n",
              "    .dataframe tbody tr th:only-of-type {\n",
              "        vertical-align: middle;\n",
              "    }\n",
              "\n",
              "    .dataframe tbody tr th {\n",
              "        vertical-align: top;\n",
              "    }\n",
              "\n",
              "    .dataframe thead th {\n",
              "        text-align: right;\n",
              "    }\n",
              "</style>\n",
              "<table border=\"1\" class=\"dataframe\">\n",
              "  <thead>\n",
              "    <tr style=\"text-align: right;\">\n",
              "      <th>type</th>\n",
              "      <th>Bronze</th>\n",
              "      <th>Gold</th>\n",
              "      <th>Silver</th>\n",
              "    </tr>\n",
              "    <tr>\n",
              "      <th>item</th>\n",
              "      <th></th>\n",
              "      <th></th>\n",
              "      <th></th>\n",
              "    </tr>\n",
              "  </thead>\n",
              "  <tbody>\n",
              "    <tr>\n",
              "      <th>ring0</th>\n",
              "      <td>NaN</td>\n",
              "      <td>20000.0</td>\n",
              "      <td>10000.0</td>\n",
              "    </tr>\n",
              "    <tr>\n",
              "      <th>ring1</th>\n",
              "      <td>30000.0</td>\n",
              "      <td>50000.0</td>\n",
              "      <td>NaN</td>\n",
              "    </tr>\n",
              "  </tbody>\n",
              "</table>\n",
              "</div>"
            ],
            "text/plain": [
              "type    Bronze     Gold   Silver\n",
              "item                            \n",
              "ring0      NaN  20000.0  10000.0\n",
              "ring1  30000.0  50000.0      NaN"
            ]
          },
          "metadata": {
            "tags": []
          },
          "execution_count": 3
        }
      ]
    },
    {
      "cell_type": "code",
      "metadata": {
        "colab": {
          "base_uri": "https://localhost:8080/",
          "height": 142
        },
        "id": "HdQfqwFkgwcl",
        "outputId": "f1921f99-ebc6-4c52-ac09-bb970fe547cf"
      },
      "source": [
        "df_1 = pd.DataFrame( {'A' : ['a10', 'a11', 'a12'], \n",
        "                      'B' : ['b10', 'b11', 'b12'],\n",
        "                      'C' : ['c10', 'c11', 'c12']} , \n",
        "                      index = ['가', '나',  '다'] )\n",
        "\n",
        "df_2 = pd.DataFrame( {'B' : ['b23', 'b24', 'b25'],\n",
        "                      'C' : ['c23', 'c24', 'c25'],\n",
        "                      'D' : ['d23', 'd24', 'd25']} , \n",
        "                      index = ['다', '라',  '마'] )\n",
        "df_1"
      ],
      "execution_count": 7,
      "outputs": [
        {
          "output_type": "execute_result",
          "data": {
            "text/html": [
              "<div>\n",
              "<style scoped>\n",
              "    .dataframe tbody tr th:only-of-type {\n",
              "        vertical-align: middle;\n",
              "    }\n",
              "\n",
              "    .dataframe tbody tr th {\n",
              "        vertical-align: top;\n",
              "    }\n",
              "\n",
              "    .dataframe thead th {\n",
              "        text-align: right;\n",
              "    }\n",
              "</style>\n",
              "<table border=\"1\" class=\"dataframe\">\n",
              "  <thead>\n",
              "    <tr style=\"text-align: right;\">\n",
              "      <th></th>\n",
              "      <th>A</th>\n",
              "      <th>B</th>\n",
              "      <th>C</th>\n",
              "    </tr>\n",
              "  </thead>\n",
              "  <tbody>\n",
              "    <tr>\n",
              "      <th>가</th>\n",
              "      <td>a10</td>\n",
              "      <td>b10</td>\n",
              "      <td>c10</td>\n",
              "    </tr>\n",
              "    <tr>\n",
              "      <th>나</th>\n",
              "      <td>a11</td>\n",
              "      <td>b11</td>\n",
              "      <td>c11</td>\n",
              "    </tr>\n",
              "    <tr>\n",
              "      <th>다</th>\n",
              "      <td>a12</td>\n",
              "      <td>b12</td>\n",
              "      <td>c12</td>\n",
              "    </tr>\n",
              "  </tbody>\n",
              "</table>\n",
              "</div>"
            ],
            "text/plain": [
              "     A    B    C\n",
              "가  a10  b10  c10\n",
              "나  a11  b11  c11\n",
              "다  a12  b12  c12"
            ]
          },
          "metadata": {
            "tags": []
          },
          "execution_count": 7
        }
      ]
    },
    {
      "cell_type": "code",
      "metadata": {
        "colab": {
          "base_uri": "https://localhost:8080/"
        },
        "id": "bvq9WtdUhXlU",
        "outputId": "ef70cfe0-cd05-45b0-f632-347cb00f1881"
      },
      "source": [
        "df_3 = pd.concat( [df_1, df_2])  \n",
        "print(df_3)"
      ],
      "execution_count": 5,
      "outputs": [
        {
          "output_type": "stream",
          "text": [
            "     A    B    C    D\n",
            "가  a10  b10  c10  NaN\n",
            "나  a11  b11  c11  NaN\n",
            "다  a12  b12  c12  NaN\n",
            "다  NaN  b23  c23  d23\n",
            "라  NaN  b24  c24  d24\n",
            "마  NaN  b25  c25  d25\n"
          ],
          "name": "stdout"
        }
      ]
    },
    {
      "cell_type": "code",
      "metadata": {
        "colab": {
          "base_uri": "https://localhost:8080/"
        },
        "id": "PcPBKE2OhZkk",
        "outputId": "174ebb5b-7700-481c-c69e-870352f6b435"
      },
      "source": [
        "print('left outer \\n' , df_1.merge(df_2, how='left', on='B' ) )\n",
        "print('right outer \\n' ,df_1.merge(df_2, how='right', on='B' ) )\n",
        "print('full outer \\n' ,df_1.merge(df_2, how='outer', on='B' ) )\n",
        "print('inner \\n' ,df_1.merge(df_2, how='inner', on='B' ) )"
      ],
      "execution_count": 8,
      "outputs": [
        {
          "output_type": "stream",
          "text": [
            "left outer \n",
            "      A    B  C_x  C_y    D\n",
            "0  a10  b10  c10  NaN  NaN\n",
            "1  a11  b11  c11  NaN  NaN\n",
            "2  a12  b12  c12  NaN  NaN\n",
            "right outer \n",
            "      A    B  C_x  C_y    D\n",
            "0  NaN  b23  NaN  c23  d23\n",
            "1  NaN  b24  NaN  c24  d24\n",
            "2  NaN  b25  NaN  c25  d25\n",
            "full outer \n",
            "      A    B  C_x  C_y    D\n",
            "0  a10  b10  c10  NaN  NaN\n",
            "1  a11  b11  c11  NaN  NaN\n",
            "2  a12  b12  c12  NaN  NaN\n",
            "3  NaN  b23  NaN  c23  d23\n",
            "4  NaN  b24  NaN  c24  d24\n",
            "5  NaN  b25  NaN  c25  d25\n",
            "inner \n",
            " Empty DataFrame\n",
            "Columns: [A, B, C_x, C_y, D]\n",
            "Index: []\n"
          ],
          "name": "stdout"
        }
      ]
    },
    {
      "cell_type": "code",
      "metadata": {
        "colab": {
          "base_uri": "https://localhost:8080/"
        },
        "id": "cQa9pXgihtro",
        "outputId": "577cbd19-b22c-4d43-f73a-09cadfe5571c"
      },
      "source": [
        "df_3 = df_1.merge(df_2, how='outer', on='B')\n",
        "print(df_3)"
      ],
      "execution_count": 9,
      "outputs": [
        {
          "output_type": "stream",
          "text": [
            "     A    B  C_x  C_y    D\n",
            "0  a10  b10  c10  NaN  NaN\n",
            "1  a11  b11  c11  NaN  NaN\n",
            "2  a12  b12  c12  NaN  NaN\n",
            "3  NaN  b23  NaN  c23  d23\n",
            "4  NaN  b24  NaN  c24  d24\n",
            "5  NaN  b25  NaN  c25  d25\n"
          ],
          "name": "stdout"
        }
      ]
    },
    {
      "cell_type": "code",
      "metadata": {
        "colab": {
          "base_uri": "https://localhost:8080/"
        },
        "id": "UnsrCmaph6jF",
        "outputId": "831d90df-e490-4d07-ef0d-a1f1cfee012e"
      },
      "source": [
        "df_3 = df_1.merge(df_2, how = 'outer', \n",
        "                  left_index = True, right_index = True )\n",
        "print(df_3)"
      ],
      "execution_count": 10,
      "outputs": [
        {
          "output_type": "stream",
          "text": [
            "     A  B_x  C_x  B_y  C_y    D\n",
            "가  a10  b10  c10  NaN  NaN  NaN\n",
            "나  a11  b11  c11  NaN  NaN  NaN\n",
            "다  a12  b12  c12  b23  c23  d23\n",
            "라  NaN  NaN  NaN  b24  c24  d24\n",
            "마  NaN  NaN  NaN  b25  c25  d25\n"
          ],
          "name": "stdout"
        }
      ]
    },
    {
      "cell_type": "code",
      "metadata": {
        "id": "tKwHyUWbh8wE"
      },
      "source": [
        ""
      ],
      "execution_count": null,
      "outputs": []
    }
  ]
}