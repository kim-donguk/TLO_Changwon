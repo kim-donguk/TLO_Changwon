{
  "nbformat": 4,
  "nbformat_minor": 0,
  "metadata": {
    "colab": {
      "name": "pandas_weather.ipynb",
      "provenance": []
    },
    "kernelspec": {
      "name": "python3",
      "display_name": "Python 3"
    },
    "language_info": {
      "name": "python"
    }
  },
  "cells": [
    {
      "cell_type": "code",
      "metadata": {
        "colab": {
          "base_uri": "https://localhost:8080/"
        },
        "id": "YAc-YY2iJwL4",
        "outputId": "9175e7fe-aa5a-439c-bd3e-88fbf61fd4de"
      },
      "source": [
        "import pandas as pd\n",
        "\n",
        "path = 'https://github.com/dongupak/DataSciPy/raw/master/data/csv/' \n",
        "weather_file = path + 'weather.csv'\n",
        "\n",
        "weather = pd.read_csv(weather_file, index_col=0, encoding='CP949')\n",
        "print(weather.head(3))\n",
        "print('weather 데이터의 shape :', weather.shape)"
      ],
      "execution_count": 38,
      "outputs": [
        {
          "output_type": "stream",
          "text": [
            "            평균기온  최대풍속  평균풍속\n",
            "일시                          \n",
            "2010-08-01  28.7   8.3   3.4\n",
            "2010-08-02  25.2   8.7   3.8\n",
            "2010-08-03  22.1   6.3   2.9\n",
            "weather 데이터의 shape : (3653, 3)\n"
          ],
          "name": "stdout"
        }
      ]
    },
    {
      "cell_type": "code",
      "metadata": {
        "colab": {
          "base_uri": "https://localhost:8080/"
        },
        "id": "SD7D2ZiWKd-i",
        "outputId": "b035bf8d-d854-40ee-fc9e-79c7b838a205"
      },
      "source": [
        "print(weather.describe())"
      ],
      "execution_count": 3,
      "outputs": [
        {
          "output_type": "stream",
          "text": [
            "              평균기온         최대풍속         평균풍속\n",
            "count  3653.000000  3649.000000  3647.000000\n",
            "mean     12.942102     7.911099     3.936441\n",
            "std       8.538507     3.029862     1.888473\n",
            "min      -9.000000     2.000000     0.200000\n",
            "25%       5.400000     5.700000     2.500000\n",
            "50%      13.800000     7.600000     3.600000\n",
            "75%      20.100000     9.700000     5.000000\n",
            "max      31.300000    26.000000    14.900000\n"
          ],
          "name": "stdout"
        }
      ]
    },
    {
      "cell_type": "code",
      "metadata": {
        "colab": {
          "base_uri": "https://localhost:8080/"
        },
        "id": "64sovGxMMpuR",
        "outputId": "afab902a-c77a-42d6-f1b7-fcd2989966e9"
      },
      "source": [
        "print(weather.mean())"
      ],
      "execution_count": 4,
      "outputs": [
        {
          "output_type": "stream",
          "text": [
            "평균기온    12.942102\n",
            "최대풍속     7.911099\n",
            "평균풍속     3.936441\n",
            "dtype: float64\n"
          ],
          "name": "stdout"
        }
      ]
    },
    {
      "cell_type": "code",
      "metadata": {
        "colab": {
          "base_uri": "https://localhost:8080/"
        },
        "id": "59wa28NJNM98",
        "outputId": "79246ad6-13d1-42d6-a08b-dd348db0ffeb"
      },
      "source": [
        "print(weather.std())"
      ],
      "execution_count": 5,
      "outputs": [
        {
          "output_type": "stream",
          "text": [
            "평균기온    8.538507\n",
            "최대풍속    3.029862\n",
            "평균풍속    1.888473\n",
            "dtype: float64\n"
          ],
          "name": "stdout"
        }
      ]
    },
    {
      "cell_type": "code",
      "metadata": {
        "colab": {
          "base_uri": "https://localhost:8080/"
        },
        "id": "KGznY1CZNht9",
        "outputId": "5099734c-8fab-4f5c-faca-ffcca838742b"
      },
      "source": [
        "print(weather)"
      ],
      "execution_count": 6,
      "outputs": [
        {
          "output_type": "stream",
          "text": [
            "            평균기온  최대풍속  평균풍속\n",
            "일시                          \n",
            "2010-08-01  28.7   8.3   3.4\n",
            "2010-08-02  25.2   8.7   3.8\n",
            "2010-08-03  22.1   6.3   2.9\n",
            "2010-08-04  25.3   6.6   4.2\n",
            "2010-08-05  27.2   9.1   5.6\n",
            "...          ...   ...   ...\n",
            "2020-07-27  22.1   4.2   1.7\n",
            "2020-07-28  21.9   4.5   1.6\n",
            "2020-07-29  21.6   3.2   1.0\n",
            "2020-07-30  22.9   9.7   2.4\n",
            "2020-07-31  25.7   4.8   2.5\n",
            "\n",
            "[3653 rows x 3 columns]\n"
          ],
          "name": "stdout"
        }
      ]
    },
    {
      "cell_type": "code",
      "metadata": {
        "colab": {
          "base_uri": "https://localhost:8080/"
        },
        "id": "QJzFBOuBLA9o",
        "outputId": "94da144c-05b1-4c12-c363-b84ee638b5ea"
      },
      "source": [
        "weather['month'] = pd.DatetimeIndex(weather['일시']).month\n",
        "means = weather.groupby('month').mean()\n",
        "print(means)"
      ],
      "execution_count": 28,
      "outputs": [
        {
          "output_type": "stream",
          "text": [
            "            평균기온      최대풍속      평균풍속\n",
            "month                               \n",
            "1       1.598387  8.158065  3.757419\n",
            "2       2.136396  8.225357  3.946786\n",
            "3       6.250323  8.871935  4.390291\n",
            "4      11.064667  9.305017  4.622483\n",
            "5      16.564194  8.548710  4.219355\n",
            "6      19.616667  6.945667  3.461000\n",
            "7      23.328387  7.322581  3.877419\n",
            "8      24.748710  6.853226  3.596129\n",
            "9      20.323667  6.896333  3.661667\n",
            "10     15.383871  7.766774  3.961613\n",
            "11      9.889667  8.013333  3.930667\n",
            "12      3.753548  8.045484  3.817097\n"
          ],
          "name": "stdout"
        }
      ]
    },
    {
      "cell_type": "code",
      "metadata": {
        "colab": {
          "base_uri": "https://localhost:8080/"
        },
        "id": "6dOrLfJWLZ_6",
        "outputId": "86519081-8cb8-41f5-94d4-9b65cd3b9ccd"
      },
      "source": [
        "means[\"평균풍속\"] >= 4.0"
      ],
      "execution_count": 29,
      "outputs": [
        {
          "output_type": "execute_result",
          "data": {
            "text/plain": [
              "month\n",
              "1     False\n",
              "2     False\n",
              "3      True\n",
              "4      True\n",
              "5      True\n",
              "6     False\n",
              "7     False\n",
              "8     False\n",
              "9     False\n",
              "10    False\n",
              "11    False\n",
              "12    False\n",
              "Name: 평균풍속, dtype: bool"
            ]
          },
          "metadata": {
            "tags": []
          },
          "execution_count": 29
        }
      ]
    },
    {
      "cell_type": "code",
      "metadata": {
        "colab": {
          "base_uri": "https://localhost:8080/",
          "height": 173
        },
        "id": "DUotfjUCPiVc",
        "outputId": "6685288d-0aab-445b-8814-c19531310336"
      },
      "source": [
        "means[means['평균풍속']>=4.0]"
      ],
      "execution_count": 30,
      "outputs": [
        {
          "output_type": "execute_result",
          "data": {
            "text/html": [
              "<div>\n",
              "<style scoped>\n",
              "    .dataframe tbody tr th:only-of-type {\n",
              "        vertical-align: middle;\n",
              "    }\n",
              "\n",
              "    .dataframe tbody tr th {\n",
              "        vertical-align: top;\n",
              "    }\n",
              "\n",
              "    .dataframe thead th {\n",
              "        text-align: right;\n",
              "    }\n",
              "</style>\n",
              "<table border=\"1\" class=\"dataframe\">\n",
              "  <thead>\n",
              "    <tr style=\"text-align: right;\">\n",
              "      <th></th>\n",
              "      <th>평균기온</th>\n",
              "      <th>최대풍속</th>\n",
              "      <th>평균풍속</th>\n",
              "    </tr>\n",
              "    <tr>\n",
              "      <th>month</th>\n",
              "      <th></th>\n",
              "      <th></th>\n",
              "      <th></th>\n",
              "    </tr>\n",
              "  </thead>\n",
              "  <tbody>\n",
              "    <tr>\n",
              "      <th>3</th>\n",
              "      <td>6.250323</td>\n",
              "      <td>8.871935</td>\n",
              "      <td>4.390291</td>\n",
              "    </tr>\n",
              "    <tr>\n",
              "      <th>4</th>\n",
              "      <td>11.064667</td>\n",
              "      <td>9.305017</td>\n",
              "      <td>4.622483</td>\n",
              "    </tr>\n",
              "    <tr>\n",
              "      <th>5</th>\n",
              "      <td>16.564194</td>\n",
              "      <td>8.548710</td>\n",
              "      <td>4.219355</td>\n",
              "    </tr>\n",
              "  </tbody>\n",
              "</table>\n",
              "</div>"
            ],
            "text/plain": [
              "            평균기온      최대풍속      평균풍속\n",
              "month                               \n",
              "3       6.250323  8.871935  4.390291\n",
              "4      11.064667  9.305017  4.622483\n",
              "5      16.564194  8.548710  4.219355"
            ]
          },
          "metadata": {
            "tags": []
          },
          "execution_count": 30
        }
      ]
    },
    {
      "cell_type": "code",
      "metadata": {
        "colab": {
          "base_uri": "https://localhost:8080/"
        },
        "id": "pyJBEiCgRfZJ",
        "outputId": "383fd39b-3c0c-4bef-b620-672d932c7828"
      },
      "source": [
        "missing_data = weather[weather['평균풍속'].isna()]\n",
        "print(missing_data)"
      ],
      "execution_count": 39,
      "outputs": [
        {
          "output_type": "stream",
          "text": [
            "            평균기온  최대풍속  평균풍속\n",
            "일시                          \n",
            "2012-02-11  -0.7   NaN   NaN\n",
            "2012-02-12   0.4   NaN   NaN\n",
            "2012-02-13   4.0   NaN   NaN\n",
            "2015-03-22  10.1  11.6   NaN\n",
            "2015-04-01   7.3  12.1   NaN\n",
            "2019-04-18  15.7  11.7   NaN\n"
          ],
          "name": "stdout"
        }
      ]
    },
    {
      "cell_type": "code",
      "metadata": {
        "colab": {
          "base_uri": "https://localhost:8080/"
        },
        "id": "VxcrU2Usb1bB",
        "outputId": "b5f8e220-70c0-458e-d422-01336e80fc68"
      },
      "source": [
        "weather.fillna(0, inplace = True)\n",
        "print(weather.loc['2012-02-11'])"
      ],
      "execution_count": 40,
      "outputs": [
        {
          "output_type": "stream",
          "text": [
            "평균기온   -0.7\n",
            "최대풍속    0.0\n",
            "평균풍속    0.0\n",
            "Name: 2012-02-11, dtype: float64\n"
          ],
          "name": "stdout"
        }
      ]
    },
    {
      "cell_type": "code",
      "metadata": {
        "id": "HL9hEBWpb_LP"
      },
      "source": [
        ""
      ],
      "execution_count": null,
      "outputs": []
    }
  ]
}