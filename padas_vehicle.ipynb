{
  "nbformat": 4,
  "nbformat_minor": 0,
  "metadata": {
    "colab": {
      "name": "padas_vehicle.ipynb",
      "provenance": [],
      "collapsed_sections": [],
      "authorship_tag": "ABX9TyNsmsruBdm3c3W9zvv3gRQ5",
      "include_colab_link": true
    },
    "kernelspec": {
      "name": "python3",
      "display_name": "Python 3"
    },
    "language_info": {
      "name": "python"
    }
  },
  "cells": [
    {
      "cell_type": "markdown",
      "metadata": {
        "id": "view-in-github",
        "colab_type": "text"
      },
      "source": [
        "<a href=\"https://colab.research.google.com/github/kim-donguk/TLO_Changwon/blob/main/padas_vehicle.ipynb\" target=\"_parent\"><img src=\"https://colab.research.google.com/assets/colab-badge.svg\" alt=\"Open In Colab\"/></a>"
      ]
    },
    {
      "cell_type": "code",
      "metadata": {
        "id": "gOOgnHC8ApkM"
      },
      "source": [
        "import pandas as pd\n",
        "\n",
        "path = 'https://raw.githubusercontent.com/dongupak/AwesomeML/main/data/csv/'\n",
        "file = path + 'vehicle_prod.csv'\n",
        "\n",
        "df = pd.read_csv(file)"
      ],
      "execution_count": 3,
      "outputs": []
    },
    {
      "cell_type": "code",
      "metadata": {
        "colab": {
          "base_uri": "https://localhost:8080/"
        },
        "id": "4qtfJClpBAwc",
        "outputId": "0d1b80c8-7946-4dd3-b741-455d2fe16d4a"
      },
      "source": [
        "print(df)"
      ],
      "execution_count": 4,
      "outputs": [
        {
          "output_type": "stream",
          "text": [
            "  Unnamed: 0   2007   2008   2009   2010   2011\n",
            "0      China   7.71   7.95  11.96  15.84  16.33\n",
            "1         EU  19.02  17.71  15.00  16.70  17.48\n",
            "2         US  10.47   8.45   5.58   7.60   8.40\n",
            "3      Japan  10.87  10.83   7.55   9.09   7.88\n",
            "4      Korea   4.04   3.78   3.45   4.20   4.62\n",
            "5     Mexico   2.01   2.05   1.50   2.25   2.54\n"
          ],
          "name": "stdout"
        }
      ]
    },
    {
      "cell_type": "code",
      "metadata": {
        "colab": {
          "base_uri": "https://localhost:8080/"
        },
        "id": "fcsdNL_OFT5w",
        "outputId": "97a9eb23-baec-4684-eabe-61ae957b9c88"
      },
      "source": [
        "df = pd.read_csv(file, index_col = 0)\n",
        "print(df)"
      ],
      "execution_count": 6,
      "outputs": [
        {
          "output_type": "stream",
          "text": [
            "         2007   2008   2009   2010   2011\n",
            "China    7.71   7.95  11.96  15.84  16.33\n",
            "EU      19.02  17.71  15.00  16.70  17.48\n",
            "US      10.47   8.45   5.58   7.60   8.40\n",
            "Japan   10.87  10.83   7.55   9.09   7.88\n",
            "Korea    4.04   3.78   3.45   4.20   4.62\n",
            "Mexico   2.01   2.05   1.50   2.25   2.54\n"
          ],
          "name": "stdout"
        }
      ]
    },
    {
      "cell_type": "code",
      "metadata": {
        "colab": {
          "base_uri": "https://localhost:8080/"
        },
        "id": "FdiW9A2MFa9G",
        "outputId": "b43ec81e-30e1-4a6b-de9c-e7607142be19"
      },
      "source": [
        "print(df[['2007','2008','2009']])"
      ],
      "execution_count": 7,
      "outputs": [
        {
          "output_type": "stream",
          "text": [
            "         2007   2008   2009\n",
            "China    7.71   7.95  11.96\n",
            "EU      19.02  17.71  15.00\n",
            "US      10.47   8.45   5.58\n",
            "Japan   10.87  10.83   7.55\n",
            "Korea    4.04   3.78   3.45\n",
            "Mexico   2.01   2.05   1.50\n"
          ],
          "name": "stdout"
        }
      ]
    },
    {
      "cell_type": "code",
      "metadata": {
        "colab": {
          "base_uri": "https://localhost:8080/",
          "height": 307
        },
        "id": "S2322d3OF1CA",
        "outputId": "2e93504a-09d5-4363-ff58-786bce269de5"
      },
      "source": [
        "import pandas as pd\n",
        "import matplotlib.pyplot as plt\n",
        "\n",
        "df['2009'].plot(kind ='bar', color = ('orange','r','b','m','c','k'))"
      ],
      "execution_count": 8,
      "outputs": [
        {
          "output_type": "execute_result",
          "data": {
            "text/plain": [
              "<matplotlib.axes._subplots.AxesSubplot at 0x7f901dc99c10>"
            ]
          },
          "metadata": {
            "tags": []
          },
          "execution_count": 8
        },
        {
          "output_type": "display_data",
          "data": {
            "image/png": "[encoded data removed]",
            "text/plain": [
              "<Figure size 432x288 with 1 Axes>"
            ]
          },
          "metadata": {
            "tags": [],
            "needs_background": "light"
          }
        }
      ]
    },
    {
      "cell_type": "code",
      "metadata": {
        "colab": {
          "base_uri": "https://localhost:8080/",
          "height": 265
        },
        "id": "vOg2b6N_HGOP",
        "outputId": "d563df26-ef34-4b9f-9e1e-58060caac267"
      },
      "source": [
        "df['2009'].plot(kind='pie')"
      ],
      "execution_count": 9,
      "outputs": [
        {
          "output_type": "execute_result",
          "data": {
            "text/plain": [
              "<matplotlib.axes._subplots.AxesSubplot at 0x7f901d760c50>"
            ]
          },
          "metadata": {
            "tags": []
          },
          "execution_count": 9
        },
        {
          "output_type": "display_data",
          "data": {
            "image/png": "[encoded data removed]",
            "text/plain": [
              "<Figure size 432x288 with 1 Axes>"
            ]
          },
          "metadata": {
            "tags": []
          }
        }
      ]
    },
    {
      "cell_type": "code",
      "metadata": {
        "colab": {
          "base_uri": "https://localhost:8080/",
          "height": 142
        },
        "id": "UOZP4SQwHNm9",
        "outputId": "eec4ae41-1550-4fff-e6ef-791bc9e7bd9f"
      },
      "source": [
        "df.head(3)"
      ],
      "execution_count": 10,
      "outputs": [
        {
          "output_type": "execute_result",
          "data": {
            "text/html": [
              "<div>\n",
              "<style scoped>\n",
              "    .dataframe tbody tr th:only-of-type {\n",
              "        vertical-align: middle;\n",
              "    }\n",
              "\n",
              "    .dataframe tbody tr th {\n",
              "        vertical-align: top;\n",
              "    }\n",
              "\n",
              "    .dataframe thead th {\n",
              "        text-align: right;\n",
              "    }\n",
              "</style>\n",
              "<table border=\"1\" class=\"dataframe\">\n",
              "  <thead>\n",
              "    <tr style=\"text-align: right;\">\n",
              "      <th></th>\n",
              "      <th>2007</th>\n",
              "      <th>2008</th>\n",
              "      <th>2009</th>\n",
              "      <th>2010</th>\n",
              "      <th>2011</th>\n",
              "    </tr>\n",
              "  </thead>\n",
              "  <tbody>\n",
              "    <tr>\n",
              "      <th>China</th>\n",
              "      <td>7.71</td>\n",
              "      <td>7.95</td>\n",
              "      <td>11.96</td>\n",
              "      <td>15.84</td>\n",
              "      <td>16.33</td>\n",
              "    </tr>\n",
              "    <tr>\n",
              "      <th>EU</th>\n",
              "      <td>19.02</td>\n",
              "      <td>17.71</td>\n",
              "      <td>15.00</td>\n",
              "      <td>16.70</td>\n",
              "      <td>17.48</td>\n",
              "    </tr>\n",
              "    <tr>\n",
              "      <th>US</th>\n",
              "      <td>10.47</td>\n",
              "      <td>8.45</td>\n",
              "      <td>5.58</td>\n",
              "      <td>7.60</td>\n",
              "      <td>8.40</td>\n",
              "    </tr>\n",
              "  </tbody>\n",
              "</table>\n",
              "</div>"
            ],
            "text/plain": [
              "        2007   2008   2009   2010   2011\n",
              "China   7.71   7.95  11.96  15.84  16.33\n",
              "EU     19.02  17.71  15.00  16.70  17.48\n",
              "US     10.47   8.45   5.58   7.60   8.40"
            ]
          },
          "metadata": {
            "tags": []
          },
          "execution_count": 10
        }
      ]
    },
    {
      "cell_type": "code",
      "metadata": {
        "colab": {
          "base_uri": "https://localhost:8080/",
          "height": 173
        },
        "id": "7yyd7g8WHpqP",
        "outputId": "0793f80d-6a80-4f1b-809b-c1f988258f7c"
      },
      "source": [
        "df[2:6]"
      ],
      "execution_count": 11,
      "outputs": [
        {
          "output_type": "execute_result",
          "data": {
            "text/html": [
              "<div>\n",
              "<style scoped>\n",
              "    .dataframe tbody tr th:only-of-type {\n",
              "        vertical-align: middle;\n",
              "    }\n",
              "\n",
              "    .dataframe tbody tr th {\n",
              "        vertical-align: top;\n",
              "    }\n",
              "\n",
              "    .dataframe thead th {\n",
              "        text-align: right;\n",
              "    }\n",
              "</style>\n",
              "<table border=\"1\" class=\"dataframe\">\n",
              "  <thead>\n",
              "    <tr style=\"text-align: right;\">\n",
              "      <th></th>\n",
              "      <th>2007</th>\n",
              "      <th>2008</th>\n",
              "      <th>2009</th>\n",
              "      <th>2010</th>\n",
              "      <th>2011</th>\n",
              "    </tr>\n",
              "  </thead>\n",
              "  <tbody>\n",
              "    <tr>\n",
              "      <th>US</th>\n",
              "      <td>10.47</td>\n",
              "      <td>8.45</td>\n",
              "      <td>5.58</td>\n",
              "      <td>7.60</td>\n",
              "      <td>8.40</td>\n",
              "    </tr>\n",
              "    <tr>\n",
              "      <th>Japan</th>\n",
              "      <td>10.87</td>\n",
              "      <td>10.83</td>\n",
              "      <td>7.55</td>\n",
              "      <td>9.09</td>\n",
              "      <td>7.88</td>\n",
              "    </tr>\n",
              "    <tr>\n",
              "      <th>Korea</th>\n",
              "      <td>4.04</td>\n",
              "      <td>3.78</td>\n",
              "      <td>3.45</td>\n",
              "      <td>4.20</td>\n",
              "      <td>4.62</td>\n",
              "    </tr>\n",
              "    <tr>\n",
              "      <th>Mexico</th>\n",
              "      <td>2.01</td>\n",
              "      <td>2.05</td>\n",
              "      <td>1.50</td>\n",
              "      <td>2.25</td>\n",
              "      <td>2.54</td>\n",
              "    </tr>\n",
              "  </tbody>\n",
              "</table>\n",
              "</div>"
            ],
            "text/plain": [
              "         2007   2008  2009  2010  2011\n",
              "US      10.47   8.45  5.58  7.60  8.40\n",
              "Japan   10.87  10.83  7.55  9.09  7.88\n",
              "Korea    4.04   3.78  3.45  4.20  4.62\n",
              "Mexico   2.01   2.05  1.50  2.25  2.54"
            ]
          },
          "metadata": {
            "tags": []
          },
          "execution_count": 11
        }
      ]
    },
    {
      "cell_type": "code",
      "metadata": {
        "colab": {
          "base_uri": "https://localhost:8080/"
        },
        "id": "NTMagv7KHq6m",
        "outputId": "e3c394b7-dbfd-4146-c3b4-f0b2454c6017"
      },
      "source": [
        "df.loc['Korea'] # 행 인덱스"
      ],
      "execution_count": 13,
      "outputs": [
        {
          "output_type": "execute_result",
          "data": {
            "text/plain": [
              "2007    4.04\n",
              "2008    3.78\n",
              "2009    3.45\n",
              "2010    4.20\n",
              "2011    4.62\n",
              "Name: Korea, dtype: float64"
            ]
          },
          "metadata": {
            "tags": []
          },
          "execution_count": 13
        }
      ]
    },
    {
      "cell_type": "code",
      "metadata": {
        "colab": {
          "base_uri": "https://localhost:8080/"
        },
        "id": "tjW8AZ4aH-uC",
        "outputId": "2d837691-702c-4f76-fb32-17ce336f59db"
      },
      "source": [
        "df['2011'][0:4]"
      ],
      "execution_count": 14,
      "outputs": [
        {
          "output_type": "execute_result",
          "data": {
            "text/plain": [
              "China    16.33\n",
              "EU       17.48\n",
              "US        8.40\n",
              "Japan     7.88\n",
              "Name: 2011, dtype: float64"
            ]
          },
          "metadata": {
            "tags": []
          },
          "execution_count": 14
        }
      ]
    },
    {
      "cell_type": "code",
      "metadata": {
        "colab": {
          "base_uri": "https://localhost:8080/"
        },
        "id": "QVgW_vGsIZ1k",
        "outputId": "6b173345-5b7e-48e4-9629-bc83b42baa42"
      },
      "source": [
        "df['total1'] = df.sum(axis=1)\n",
        "print(df)"
      ],
      "execution_count": 18,
      "outputs": [
        {
          "output_type": "stream",
          "text": [
            "         2007   2008   2009   2010   2011   total  total1\n",
            "China    7.71   7.95  11.96  15.84  16.33  179.37  239.16\n",
            "EU      19.02  17.71  15.00  16.70  17.48  257.73  343.64\n",
            "US      10.47   8.45   5.58   7.60   8.40  121.50  162.00\n",
            "Japan   10.87  10.83   7.55   9.09   7.88  138.66  184.88\n",
            "Korea    4.04   3.78   3.45   4.20   4.62   60.27   80.36\n",
            "Mexico   2.01   2.05   1.50   2.25   2.54   31.05   41.40\n"
          ],
          "name": "stdout"
        }
      ]
    },
    {
      "cell_type": "code",
      "metadata": {
        "colab": {
          "base_uri": "https://localhost:8080/"
        },
        "id": "T2pJQiUdItjo",
        "outputId": "77cb79a2-7260-486d-e79e-1a0928629259"
      },
      "source": [
        "df['total_loc'] = df.sum(axis=0)"
      ],
      "execution_count": 19,
      "outputs": [
        {
          "output_type": "stream",
          "text": [
            "         2007   2008   2009   2010   2011   total  total1  total_loc\n",
            "China    7.71   7.95  11.96  15.84  16.33  179.37  239.16        NaN\n",
            "EU      19.02  17.71  15.00  16.70  17.48  257.73  343.64        NaN\n",
            "US      10.47   8.45   5.58   7.60   8.40  121.50  162.00        NaN\n",
            "Japan   10.87  10.83   7.55   9.09   7.88  138.66  184.88        NaN\n",
            "Korea    4.04   3.78   3.45   4.20   4.62   60.27   80.36        NaN\n",
            "Mexico   2.01   2.05   1.50   2.25   2.54   31.05   41.40        NaN\n"
          ],
          "name": "stdout"
        }
      ]
    },
    {
      "cell_type": "code",
      "metadata": {
        "id": "v2C0GoNNJDdb"
      },
      "source": [
        ""
      ],
      "execution_count": null,
      "outputs": []
    }
  ]
}